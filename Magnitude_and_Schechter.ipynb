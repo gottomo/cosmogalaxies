{
 "cells": [
  {
   "cell_type": "code",
   "execution_count": 24,
   "metadata": {},
   "outputs": [],
   "source": [
    "# Luminosity, Schechter function, etc. \n",
    "\n",
    "# Runtime error:\n",
    "\n",
    "# Need to calculate E(z) only once, and re-use that vector for each calculation of Distance Modulus, rather than\n",
    "# having the integrals nested.\n",
    "\n",
    "# should also check for divide by zero, or numbers going above max double float size (-1.797e+308, 1.797e+308)\n",
    "# \n",
    "\n",
    "# Imports\n",
    "import math\n",
    "import numpy as np\n",
    "import scipy.integrate as integrate\n",
    "import matplotlib.pyplot as plt"
   ]
  },
  {
   "cell_type": "code",
   "execution_count": 130,
   "metadata": {},
   "outputs": [],
   "source": [
    "# David Hogg Paper\n",
    "EDS = np.array([1, 0, 0])\n",
    "LD = np.array([0.05, 0, 0.95])\n",
    "HL = np.array([0.2, 0.8, 0])\n",
    "\n",
    "#Msci paper\n",
    "# Omega M, Omega Lambda, Omega K\n",
    "LCDM = np.array([0.3, 0.7, 0])\n",
    "EDS = np.array([1, 0, 0])\n",
    "OCDM = ([0.3, 0, 0.7])\n",
    "\n",
    "# W0, W1\n",
    "wBasic = np.array([-1, 0])\n",
    "w8 = np.array([-0.8, 0])\n",
    "w9 = np.array([-0.9, 0])\n",
    "w11 = np.array([-1.1, 0])\n",
    "w12 = np.array([-1.2, 0])\n",
    "\n",
    "# Schecher parameters\n",
    "# Phi1, Phi2, a1, a2, Mass*\n",
    "# The Schechter parameters found  in the paper by Baldry, Driver, Loveday, Taylor et al. (2011)\n",
    "CanonicalSchechter = np.array([3.96*10**-3, 0.79*10**-3,-0.35, -1.47, 10**10.66])\n",
    "\n",
    "zArray = np.linspace(0.01, 5, num = 200)\n",
    "MagArray = np.linspace(-30, 50, num = 200)"
   ]
  },
  {
   "cell_type": "code",
   "execution_count": 131,
   "metadata": {},
   "outputs": [],
   "source": [
    "# Constants\n",
    "\n",
    "c = 3 * 10**8\n",
    "H_0 = 70\n",
    "D_H = (c / H_0)\n",
    "MSol = 1.99 * 10**30"
   ]
  },
  {
   "cell_type": "code",
   "execution_count": 132,
   "metadata": {},
   "outputs": [],
   "source": [
    "def Ez(z, OmeM, OmeCos, OmeK, w0, w1): #Doesn't switch equation automatically\n",
    "    if OmeK > 0: # Is this distribution of equations true?\n",
    "        return np.sqrt(OmeM * (1 + z)**3 + OmeK * (1 + z)**2 + OmeCos)\n",
    "    elif OmeK == 0:\n",
    "        return np.sqrt(OmeM * (1 + z)**3 + (1 - OmeM) * (1 + z)**(3 * (1 + w0 + w1)) * np.exp(-3 * w1 * z))"
   ]
  },
  {
   "cell_type": "code",
   "execution_count": 133,
   "metadata": {},
   "outputs": [],
   "source": [
    "# Comoving distance for line-of-sight distance calculation\n",
    "\n",
    "def ComDisLOS(z, OmeM, OmeCos, OmeK, w0, w1):\n",
    "    integral = integrate.quad(lambda Z: 1/(Ez(Z, OmeM, OmeCos, OmeK, w0, w1)), 0, z) # integration holds error\n",
    "    return integral[0]\n",
    "\n",
    "ComDisLOSVec = np.vectorize(ComDisLOS, excluded=['ws'])"
   ]
  },
  {
   "cell_type": "code",
   "execution_count": 134,
   "metadata": {},
   "outputs": [],
   "source": [
    "def ComDisTra(z, OmeM, OmeCos, OmeK, w0, w1):\n",
    "    if OmeCos == 0:\n",
    "        A = 2 - OmeM * (1-z)\n",
    "        B = (2 - OmeM) * np.sqrt(1 + OmeM * z)\n",
    "        C = OmeM**2 * (1 + z)\n",
    "        distance = 2 * (A - B)/C\n",
    "        return distance\n",
    "        \n",
    "    else:\n",
    "        if OmeK > 0:\n",
    "            distance = (1 / np.sqrt(OmeK)) * np.sinh(np.sqrt(OmeK) * ComDisLOS(z, OmeM, OmeCos, OmeK, w0, w1) )\n",
    "        elif OmeK < 0:\n",
    "            distance = (1 / np.sqrt(np.absolute(OmeK))) * np.sin(np.sqrt(np.absolute(OmeK)) * ComDisLOS(z, OmeM, OmeCos, OmeK, w0, w1) )\n",
    "        elif OmeK == 0:\n",
    "            distance = ComDisLOS(z, OmeM, OmeCos, OmeK, w0, w1)\n",
    "    return distance\n",
    "\n",
    "ComDisTraVec = np.vectorize(ComDisTra, excluded=['ws'])"
   ]
  },
  {
   "cell_type": "code",
   "execution_count": 135,
   "metadata": {},
   "outputs": [],
   "source": [
    "# Luminosity distance\n",
    "\n",
    "def LumDist(z, OmeM, OmeCos, OmeK, w0, w1):\n",
    "    return (1 + z) * ComDisTra(z, OmeM, OmeCos, OmeK, w0, w1)"
   ]
  },
  {
   "cell_type": "code",
   "execution_count": 136,
   "metadata": {},
   "outputs": [],
   "source": [
    "# Distance Modulus\n",
    "\n",
    "def DistanceModulus(z, OmeM, OmeCos, OmeK, w0, w1):\n",
    "    return 5 * np.log10(LumDist(z, OmeM, OmeCos, OmeK, w0, w1)*(D_H * 10**(-10)))\n",
    "                        \n",
    "DistModVec = np.vectorize(DistanceModulus)"
   ]
  },
  {
   "cell_type": "code",
   "execution_count": 137,
   "metadata": {},
   "outputs": [],
   "source": [
    "# magnitudes = np.linspace(5, 15, num = 200)\n",
    "\n",
    "# def SchechterDiff(Phi, a, Mstar, M):\n",
    "#     return Phi * np.log(10) * (10**(0.4*(Mstar - M)))**(a + 1) * np.exp(-10**(0.4*(Mstar-M)))\n",
    "\n",
    "# #np.vectorize(SchechterDiff)\n",
    "\n",
    "# def Schechter(Phi, a, Mstar, M):\n",
    "#     integral = integrate.quad(lambda m: (SchechterDiff(Phi, a, Mstar, m)), 0, np.inf) # integration holds error\n",
    "#     return integral[0]\n",
    "\n",
    "# values = SchechterDiff(1.2 * 10**(-2), -0.25, 7, magnitudes)\n",
    "\n",
    "# plt.plot(magnitudes, values)\n",
    "# plt.show()\n",
    "\n",
    "# SchechterVec = np.vectorize(Schechter)"
   ]
  },
  {
   "cell_type": "code",
   "execution_count": 138,
   "metadata": {},
   "outputs": [],
   "source": [
    "# Schechter function for masses\n",
    "# Double schechter function from paper by Baldry, Driver, Loveday, Taylor et al. (2011)\n",
    "\n",
    "def DoubleSchechterDiff(Phi1, Phi2, a1, a2, MassStar, Mass): #in MASSES =(\n",
    "    Density = np.exp(-Mass/MassStar) * (Phi1 * (Mass/MassStar)**a1 + Phi2 * (Mass/MassStar)**a2 ) * (1/MassStar)\n",
    "    return Density\n",
    "\n",
    "\n",
    "DoubleSchechterDiffVec = np.vectorize(DoubleSchechterDiff)"
   ]
  },
  {
   "cell_type": "code",
   "execution_count": 139,
   "metadata": {},
   "outputs": [],
   "source": [
    "# Luminosity from mass\n",
    "# Currently just a stand-in function!!! Not even an approximation!!!!!!!!\n",
    "# But this is what Dr. Conselice said to do in the supervision meeting; \"just use luminosity *3 or something\"\n",
    "\n",
    "def LumfromMass(mass):\n",
    "    Lum = 3 * mass * Msol # units of solar mass\n",
    "    return Lum\n",
    "# Mass from luminosity\n",
    "def MassFromLum(Lum):\n",
    "    mass = Lum/(3 * MSol)\n",
    "    return mass"
   ]
  },
  {
   "cell_type": "code",
   "execution_count": 140,
   "metadata": {},
   "outputs": [],
   "source": [
    "# Absolute Magnitue from Luminosity\n",
    "def MagnitudeFromLum(Lum):\n",
    "    Mag = -2.5*np.log10(Lum/3.0128*10**28)\n",
    "    return Mag\n",
    "# Luminosity from absolute magnitude\n",
    "def LumFromMagnitude(Mag):\n",
    "    Lum = 10**(-Mag/2.5) * 3.0128*10**28\n",
    "    return Lum"
   ]
  },
  {
   "cell_type": "code",
   "execution_count": 141,
   "metadata": {},
   "outputs": [],
   "source": [
    "# magnitude from Absolute Magnitude\n",
    "# m = M + DM + K\n",
    "def MagFromAbsMag(Mag, DM, K):\n",
    "    mag = Mag + DM + K\n",
    "    return mag\n",
    "\n",
    "def AbsMagFromMag(mag, DM, K):\n",
    "    Mag = mag - DM - K\n",
    "    return Mag\n"
   ]
  },
  {
   "cell_type": "code",
   "execution_count": 142,
   "metadata": {},
   "outputs": [],
   "source": [
    "# Schechter function as a distribution of magnitudes \n",
    "# \n",
    "def SchechterMagnitudes(Phi1, Phi2, a1, a2, MassStar, mag, DM, K):\n",
    "    Density = DoubleSchechterDiffVec(Phi1, Phi2, a1, a2, MassStar, MassFromLum(LumFromMagnitude(AbsMagFromMag(mag, DM, K))))\n",
    "    return Density"
   ]
  },
  {
   "cell_type": "code",
   "execution_count": null,
   "metadata": {},
   "outputs": [],
   "source": []
  },
  {
   "cell_type": "code",
   "execution_count": 143,
   "metadata": {},
   "outputs": [
    {
     "data": {
      "image/png": "[encoded data removed]",
      "text/plain": [
       "<Figure size 432x288 with 1 Axes>"
      ]
     },
     "metadata": {
      "needs_background": "light"
     },
     "output_type": "display_data"
    }
   ],
   "source": [
    "\n",
    "MagnitudesDistrib = SchechterMagnitudes(CanonicalSchechter[0], CanonicalSchechter[1], CanonicalSchechter[2], CanonicalSchechter[3], CanonicalSchechter[4], MagArray, 0, 0)\n",
    "\n",
    "plt.plot(MagArray, MagnitudesDistrib)\n",
    "plt.show()\n"
   ]
  },
  {
   "cell_type": "markdown",
   "metadata": {},
   "source": [
    "Now I wanted to check what was going on each step of the way, so I test the behaviour of a set of magnitudes as they go through each function."
   ]
  },
  {
   "cell_type": "code",
   "execution_count": 144,
   "metadata": {},
   "outputs": [
    {
     "data": {
      "image/png": "[encoded data removed]",
      "text/plain": [
       "<Figure size 432x288 with 1 Axes>"
      ]
     },
     "metadata": {
      "needs_background": "light"
     },
     "output_type": "display_data"
    }
   ],
   "source": [
    "\n",
    "AbsoluteMagnitudes = AbsMagFromMag(MagArray, 0, 0)\n",
    "\n",
    "plt.plot(MagArray, AbsoluteMagnitudes)\n",
    "plt.show()"
   ]
  },
  {
   "cell_type": "code",
   "execution_count": 145,
   "metadata": {},
   "outputs": [
    {
     "data": {
      "image/png": "[encoded data removed]",
      "text/plain": [
       "<Figure size 432x288 with 1 Axes>"
      ]
     },
     "metadata": {
      "needs_background": "light"
     },
     "output_type": "display_data"
    }
   ],
   "source": [
    "Luminosities = LumFromMagnitude(AbsoluteMagnitudes)\n",
    "\n",
    "plt.plot(MagArray, Luminosities)\n",
    "plt.show()"
   ]
  },
  {
   "cell_type": "code",
   "execution_count": 146,
   "metadata": {},
   "outputs": [
    {
     "data": {
      "image/png": "[encoded data removed]",
      "text/plain": [
       "<Figure size 432x288 with 1 Axes>"
      ]
     },
     "metadata": {
      "needs_background": "light"
     },
     "output_type": "display_data"
    }
   ],
   "source": [
    "Masses = MassFromLum(Luminosities)\n",
    "plt.plot(MagArray, Masses)\n",
    "plt.show()"
   ]
  },
  {
   "cell_type": "code",
   "execution_count": 161,
   "metadata": {},
   "outputs": [
    {
     "data": {
      "image/png": "[encoded data removed]",
      "text/plain": [
       "<Figure size 432x288 with 1 Axes>"
      ]
     },
     "metadata": {
      "needs_background": "light"
     },
     "output_type": "display_data"
    }
   ],
   "source": [
    "# Schechter distribution of magnitudes\n",
    "\n",
    "Density = DoubleSchechterDiffVec(CanonicalSchechter[0], CanonicalSchechter[1], CanonicalSchechter[2], \\\n",
    "                                 CanonicalSchechter[3], CanonicalSchechter[4], MassFromLum(LumFromMagnitude(\n",
    "    AbsMagFromMag(MagArray, DistanceModulus(0.5, LCDM[0], LCDM[1], LCDM[2], wBasic[0], wBasic[1]), 0))))\n",
    "\n",
    "plt.plot(MagArray, Density)\n",
    "plt.show()\n"
   ]
  },
  {
   "cell_type": "code",
   "execution_count": 159,
   "metadata": {},
   "outputs": [],
   "source": [
    "def DensityAtZ(Phi1, Phi2, a1, a2, MassStar, z, OmeM, OmeCos, OmeK, w0, w1):\n",
    "    integral = integrate.quad(lambda M: DoubleSchechterDiffVec(Phi1, Phi2, a1, a2, MassStar, MassFromLum(LumFromMagnitude\n",
    "                        (AbsMagFromMag(M, DistanceModulus(z, OmeM, OmeCos, OmeK, w0, w1), 0)))), -np.inf, 25)\n",
    "    return integral[0]"
   ]
  },
  {
   "cell_type": "code",
   "execution_count": 160,
   "metadata": {},
   "outputs": [
    {
     "name": "stdout",
     "output_type": "stream",
     "text": [
      "1.9158846073244036e+30\n"
     ]
    },
    {
     "name": "stderr",
     "output_type": "stream",
     "text": [
      "C:\\Users\\Pat\\Anaconda3\\lib\\site-packages\\ipykernel_launcher.py:7: RuntimeWarning: overflow encountered in double_scalars\n",
      "  import sys\n"
     ]
    }
   ],
   "source": [
    "print(DensityAtZ(CanonicalSchechter[0], CanonicalSchechter[1], CanonicalSchechter[2], CanonicalSchechter[3], CanonicalSchechter[4], \n",
    " 0.5, LCDM[0], LCDM[1], LCDM[2], wBasic[0], wBasic[1]))\n",
    "\n",
    "# One value of density at a disance z = 0.5 gives a runtime error. Must resolve this as need to calculate full spectrum\n",
    "# of different z values.\n",
    "\n",
    "# Also; 1.9 * 10^30 seems unnecessarily big? But this may also be because of the units of different quantities going\n",
    "# into functions; as the luminosity to mass function is very much just a dummy function at the moment, haven't\n",
    "# concentrated too much on units, concentrated on behaviour instead.\n"
   ]
  },
  {
   "cell_type": "code",
   "execution_count": null,
   "metadata": {},
   "outputs": [],
   "source": []
  },
  {
   "cell_type": "code",
   "execution_count": null,
   "metadata": {},
   "outputs": [],
   "source": []
  }
 ],
 "metadata": {
  "kernelspec": {
   "display_name": "Python 3",
   "language": "python",
   "name": "python3"
  },
  "language_info": {
   "codemirror_mode": {
    "name": "ipython",
    "version": 3
   },
   "file_extension": ".py",
   "mimetype": "text/x-python",
   "name": "python",
   "nbconvert_exporter": "python",
   "pygments_lexer": "ipython3",
   "version": "3.7.3"
  }
 },
 "nbformat": 4,
 "nbformat_minor": 4
}
